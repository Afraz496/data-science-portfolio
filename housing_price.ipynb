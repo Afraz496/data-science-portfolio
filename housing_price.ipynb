{
 "cells": [
  {
   "cell_type": "code",
   "execution_count": 1,
   "id": "6e304c93-386b-42d6-a791-c14a6f53c4bf",
   "metadata": {},
   "outputs": [],
   "source": [
    "#import ydata_profiling\n",
    "\n",
    "SEED = 2022\n",
    "#!/usr/bin/env python\n",
    "import sys\n",
    "import os\n",
    "sys.path.append('src/')\n",
    "import numpy as np\n",
    "import pandas as pd\n",
    "import matplotlib.pyplot as plt\n",
    "import argparse\n",
    "from sklearn.pipeline import Pipeline\n",
    "from sklearn.impute import SimpleImputer\n",
    "from sklearn.preprocessing import OneHotEncoder\n",
    "from sklearn.compose import ColumnTransformer\n",
    "from sklearn.preprocessing import StandardScaler, MinMaxScaler, RobustScaler, PowerTransformer, QuantileTransformer\n",
    "from sklearn.decomposition import PCA\n",
    "import logging\n",
    "import pickle\n",
    "from sklearn.model_selection import GridSearchCV\n",
    "from sklearn.model_selection import (\n",
    "    TimeSeriesSplit,\n",
    "    cross_val_score,\n",
    "    cross_validate,\n",
    "    train_test_split,\n",
    ")\n",
    "import time\n",
    "from sklearn import linear_model\n",
    "from sklearn.ensemble import RandomForestRegressor\n",
    "from catboost import CatBoostRegressor\n",
    "import lightgbm as lgb\n",
    "from xgboost import XGBRegressor"
   ]
  },
  {
   "cell_type": "markdown",
   "id": "29c52749-1808-469a-821e-5dedcae60977",
   "metadata": {},
   "source": [
    "# Load the data"
   ]
  },
  {
   "cell_type": "code",
   "execution_count": 2,
   "id": "31c006c0-67d6-41ad-b3a2-994040aca1a5",
   "metadata": {},
   "outputs": [],
   "source": [
    "train_df = pd.read_csv('Data/housing_price/train.csv', index_col=0)"
   ]
  },
  {
   "cell_type": "code",
   "execution_count": 3,
   "id": "cfa85133-d4b2-4e0d-95dc-2fa374f42321",
   "metadata": {},
   "outputs": [],
   "source": [
    "train_df.reset_index(inplace=True, drop=True)"
   ]
  },
  {
   "cell_type": "code",
   "execution_count": 4,
   "id": "79c6d153-2a5a-4f02-b676-8de258fe0970",
   "metadata": {},
   "outputs": [
    {
     "data": {
      "text/html": [
       "<div>\n",
       "<style scoped>\n",
       "    .dataframe tbody tr th:only-of-type {\n",
       "        vertical-align: middle;\n",
       "    }\n",
       "\n",
       "    .dataframe tbody tr th {\n",
       "        vertical-align: top;\n",
       "    }\n",
       "\n",
       "    .dataframe thead th {\n",
       "        text-align: right;\n",
       "    }\n",
       "</style>\n",
       "<table border=\"1\" class=\"dataframe\">\n",
       "  <thead>\n",
       "    <tr style=\"text-align: right;\">\n",
       "      <th></th>\n",
       "      <th>MSSubClass</th>\n",
       "      <th>MSZoning</th>\n",
       "      <th>LotFrontage</th>\n",
       "      <th>LotArea</th>\n",
       "      <th>Street</th>\n",
       "      <th>Alley</th>\n",
       "      <th>LotShape</th>\n",
       "      <th>LandContour</th>\n",
       "      <th>Utilities</th>\n",
       "      <th>LotConfig</th>\n",
       "      <th>...</th>\n",
       "      <th>PoolArea</th>\n",
       "      <th>PoolQC</th>\n",
       "      <th>Fence</th>\n",
       "      <th>MiscFeature</th>\n",
       "      <th>MiscVal</th>\n",
       "      <th>MoSold</th>\n",
       "      <th>YrSold</th>\n",
       "      <th>SaleType</th>\n",
       "      <th>SaleCondition</th>\n",
       "      <th>SalePrice</th>\n",
       "    </tr>\n",
       "  </thead>\n",
       "  <tbody>\n",
       "    <tr>\n",
       "      <th>0</th>\n",
       "      <td>60</td>\n",
       "      <td>RL</td>\n",
       "      <td>65.0</td>\n",
       "      <td>8450</td>\n",
       "      <td>Pave</td>\n",
       "      <td>NaN</td>\n",
       "      <td>Reg</td>\n",
       "      <td>Lvl</td>\n",
       "      <td>AllPub</td>\n",
       "      <td>Inside</td>\n",
       "      <td>...</td>\n",
       "      <td>0</td>\n",
       "      <td>NaN</td>\n",
       "      <td>NaN</td>\n",
       "      <td>NaN</td>\n",
       "      <td>0</td>\n",
       "      <td>2</td>\n",
       "      <td>2008</td>\n",
       "      <td>WD</td>\n",
       "      <td>Normal</td>\n",
       "      <td>208500</td>\n",
       "    </tr>\n",
       "    <tr>\n",
       "      <th>1</th>\n",
       "      <td>20</td>\n",
       "      <td>RL</td>\n",
       "      <td>80.0</td>\n",
       "      <td>9600</td>\n",
       "      <td>Pave</td>\n",
       "      <td>NaN</td>\n",
       "      <td>Reg</td>\n",
       "      <td>Lvl</td>\n",
       "      <td>AllPub</td>\n",
       "      <td>FR2</td>\n",
       "      <td>...</td>\n",
       "      <td>0</td>\n",
       "      <td>NaN</td>\n",
       "      <td>NaN</td>\n",
       "      <td>NaN</td>\n",
       "      <td>0</td>\n",
       "      <td>5</td>\n",
       "      <td>2007</td>\n",
       "      <td>WD</td>\n",
       "      <td>Normal</td>\n",
       "      <td>181500</td>\n",
       "    </tr>\n",
       "    <tr>\n",
       "      <th>2</th>\n",
       "      <td>60</td>\n",
       "      <td>RL</td>\n",
       "      <td>68.0</td>\n",
       "      <td>11250</td>\n",
       "      <td>Pave</td>\n",
       "      <td>NaN</td>\n",
       "      <td>IR1</td>\n",
       "      <td>Lvl</td>\n",
       "      <td>AllPub</td>\n",
       "      <td>Inside</td>\n",
       "      <td>...</td>\n",
       "      <td>0</td>\n",
       "      <td>NaN</td>\n",
       "      <td>NaN</td>\n",
       "      <td>NaN</td>\n",
       "      <td>0</td>\n",
       "      <td>9</td>\n",
       "      <td>2008</td>\n",
       "      <td>WD</td>\n",
       "      <td>Normal</td>\n",
       "      <td>223500</td>\n",
       "    </tr>\n",
       "    <tr>\n",
       "      <th>3</th>\n",
       "      <td>70</td>\n",
       "      <td>RL</td>\n",
       "      <td>60.0</td>\n",
       "      <td>9550</td>\n",
       "      <td>Pave</td>\n",
       "      <td>NaN</td>\n",
       "      <td>IR1</td>\n",
       "      <td>Lvl</td>\n",
       "      <td>AllPub</td>\n",
       "      <td>Corner</td>\n",
       "      <td>...</td>\n",
       "      <td>0</td>\n",
       "      <td>NaN</td>\n",
       "      <td>NaN</td>\n",
       "      <td>NaN</td>\n",
       "      <td>0</td>\n",
       "      <td>2</td>\n",
       "      <td>2006</td>\n",
       "      <td>WD</td>\n",
       "      <td>Abnorml</td>\n",
       "      <td>140000</td>\n",
       "    </tr>\n",
       "    <tr>\n",
       "      <th>4</th>\n",
       "      <td>60</td>\n",
       "      <td>RL</td>\n",
       "      <td>84.0</td>\n",
       "      <td>14260</td>\n",
       "      <td>Pave</td>\n",
       "      <td>NaN</td>\n",
       "      <td>IR1</td>\n",
       "      <td>Lvl</td>\n",
       "      <td>AllPub</td>\n",
       "      <td>FR2</td>\n",
       "      <td>...</td>\n",
       "      <td>0</td>\n",
       "      <td>NaN</td>\n",
       "      <td>NaN</td>\n",
       "      <td>NaN</td>\n",
       "      <td>0</td>\n",
       "      <td>12</td>\n",
       "      <td>2008</td>\n",
       "      <td>WD</td>\n",
       "      <td>Normal</td>\n",
       "      <td>250000</td>\n",
       "    </tr>\n",
       "  </tbody>\n",
       "</table>\n",
       "<p>5 rows × 80 columns</p>\n",
       "</div>"
      ],
      "text/plain": [
       "   MSSubClass MSZoning  LotFrontage  LotArea Street Alley LotShape  \\\n",
       "0          60       RL         65.0     8450   Pave   NaN      Reg   \n",
       "1          20       RL         80.0     9600   Pave   NaN      Reg   \n",
       "2          60       RL         68.0    11250   Pave   NaN      IR1   \n",
       "3          70       RL         60.0     9550   Pave   NaN      IR1   \n",
       "4          60       RL         84.0    14260   Pave   NaN      IR1   \n",
       "\n",
       "  LandContour Utilities LotConfig  ... PoolArea PoolQC Fence MiscFeature  \\\n",
       "0         Lvl    AllPub    Inside  ...        0    NaN   NaN         NaN   \n",
       "1         Lvl    AllPub       FR2  ...        0    NaN   NaN         NaN   \n",
       "2         Lvl    AllPub    Inside  ...        0    NaN   NaN         NaN   \n",
       "3         Lvl    AllPub    Corner  ...        0    NaN   NaN         NaN   \n",
       "4         Lvl    AllPub       FR2  ...        0    NaN   NaN         NaN   \n",
       "\n",
       "  MiscVal MoSold  YrSold  SaleType  SaleCondition  SalePrice  \n",
       "0       0      2    2008        WD         Normal     208500  \n",
       "1       0      5    2007        WD         Normal     181500  \n",
       "2       0      9    2008        WD         Normal     223500  \n",
       "3       0      2    2006        WD        Abnorml     140000  \n",
       "4       0     12    2008        WD         Normal     250000  \n",
       "\n",
       "[5 rows x 80 columns]"
      ]
     },
     "execution_count": 4,
     "metadata": {},
     "output_type": "execute_result"
    }
   ],
   "source": [
    "train_df.head()"
   ]
  },
  {
   "cell_type": "code",
   "execution_count": 5,
   "id": "0690e4f7-90d3-4f12-8bea-eb542ca38c31",
   "metadata": {},
   "outputs": [],
   "source": [
    "drop_features = ['Alley', 'FireplaceQu', 'PoolQC', 'Fence', 'MiscFeature']"
   ]
  },
  {
   "cell_type": "code",
   "execution_count": 6,
   "id": "113ad12d-c5f1-444e-a4ed-67c2697d8d86",
   "metadata": {},
   "outputs": [],
   "source": [
    "train_df.drop(columns=drop_features, inplace=True)"
   ]
  },
  {
   "cell_type": "code",
   "execution_count": 7,
   "id": "e369ddc3-d175-43db-8c34-be8e852f1778",
   "metadata": {},
   "outputs": [],
   "source": [
    "def fit_processor(X_train, numeric_features, categorical_features):\n",
    "    \"\"\"\n",
    "    Applies Simple Imputer to Categorical Features\n",
    "    Applies One Hot Encoding to Categorical Features\n",
    "    Applies Quantile Scaling to Numeric Features\n",
    "    Returns and writes pickle file of the complete preprocessor\n",
    "\n",
    "    Parameters\n",
    "    ----------\n",
    "    X_train : numpy\n",
    "        Training Data in NumPy format\n",
    "    numeric_features : list[string]\n",
    "        List of Numeric Features\n",
    "    categorical_features: list[string]\n",
    "        List of Categorical Features\n",
    "\n",
    "    Returns\n",
    "    -------\n",
    "    preprocessor : sklearn.Preprocessor\n",
    "        sklearn preprocessor fit on the training set\n",
    "    \"\"\"\n",
    "    pipe_num = Pipeline([\n",
    "        ('impute', SimpleImputer(strategy='mean')),\n",
    "        ('scaler',  MinMaxScaler())\n",
    "    ])\n",
    "    pipe_cat = Pipeline([\n",
    "        ('impute', SimpleImputer(strategy='most_frequent')),\n",
    "        ('ohe', OneHotEncoder(handle_unknown='ignore', sparse_output=False))\n",
    "    ]) \n",
    "    preprocessor = ColumnTransformer([\n",
    "        ('num', pipe_num, numeric_features),\n",
    "        ('cat', pipe_cat, categorical_features)\n",
    "    ])\n",
    "\n",
    "    norm_X_train = preprocessor.fit(X_train)\n",
    "\n",
    "    return preprocessor"
   ]
  },
  {
   "cell_type": "code",
   "execution_count": 8,
   "id": "a30d1da4-679e-4b17-8f39-0a3c70596aa3",
   "metadata": {},
   "outputs": [],
   "source": [
    "def format_data(df):\n",
    "    \"\"\"\n",
    "    Format the Data into X, y to setup different variables for the Machine Learning pipeline\n",
    "\n",
    "    Parameters\n",
    "    ----------\n",
    "    df : DataFrame\n",
    "        DataFrame to separate into X,y\n",
    "\n",
    "    Returns\n",
    "    -------\n",
    "    Xy : tuple[numpy, numpy]\n",
    "        NumPy arrays of features and predictor\n",
    "\n",
    "    \"\"\"\n",
    "    y = df['SalePrice']\n",
    "    y = y.to_numpy()\n",
    "    col_names = df.columns.tolist()\n",
    "    col_names.remove('SalePrice')\n",
    "    X = df[col_names]\n",
    "\n",
    "    return X,y"
   ]
  },
  {
   "cell_type": "markdown",
   "id": "133df6bc-3417-49d1-a15e-5a70cd4c103b",
   "metadata": {},
   "source": [
    "# CHKN NOTES\n",
    "- train validation and test - 3 fundos\n",
    "- split it 80 20\n",
    "- crossvalidation while trainng\n",
    "- tune hyper paras of model\n",
    "- but method to it are diff across each thing\n",
    "- best one to use for tabular is called stratified k fold - time is time- why bother????\n",
    "- CROSSValidate"
   ]
  },
  {
   "cell_type": "code",
   "execution_count": 10,
   "id": "4aa12adf-a1e8-4e22-abbb-cf47ab6e3137",
   "metadata": {},
   "outputs": [],
   "source": [
    "from sklearn.model_selection import train_test_split"
   ]
  },
  {
   "cell_type": "code",
   "execution_count": 12,
   "id": "21bdfa09-139f-4dff-8d1b-9fa8a8cc6044",
   "metadata": {},
   "outputs": [],
   "source": [
    "features = train_df.columns.to_list()"
   ]
  },
  {
   "cell_type": "code",
   "execution_count": 13,
   "id": "e6f5e26f-faac-465a-a4ba-1c9ee2160787",
   "metadata": {},
   "outputs": [],
   "source": [
    "X = train_df[features]\n",
    "y = train_df[['SalePrice']]"
   ]
  },
  {
   "cell_type": "code",
   "execution_count": 14,
   "id": "43c1fa65-1465-4cd3-b3d8-ea9fd7b51277",
   "metadata": {},
   "outputs": [],
   "source": [
    "X_train, X_test, y_train, y_test = train_test_split(X, y, test_size=0.2, random_state=69)"
   ]
  },
  {
   "cell_type": "code",
   "execution_count": 15,
   "id": "b02052d4-f996-42c0-acb8-e419c6632626",
   "metadata": {},
   "outputs": [],
   "source": [
    "# Prepare columns\n",
    "features = X_train.columns.to_list()\n",
    "df_numerical_features = X_train.select_dtypes(include='number')\n",
    "df_categorical_features = X_train.select_dtypes(include='object')\n",
    "\n",
    "# preprocess\n",
    "features = X_train.columns.to_list()\n",
    "numerical_features = df_numerical_features.columns.to_list()\n",
    "categorical_features = df_categorical_features.columns.to_list()\n",
    "processor = fit_processor(X_train[features],numerical_features, categorical_features)"
   ]
  },
  {
   "cell_type": "code",
   "execution_count": 23,
   "id": "53bcb55f-c3d4-486f-b157-efbcffd61306",
   "metadata": {},
   "outputs": [],
   "source": [
    "norm_X_train = processor.transform(X_train)"
   ]
  },
  {
   "cell_type": "code",
   "execution_count": 16,
   "id": "c29c68a8-b162-47e7-8b05-c75f4f58d04e",
   "metadata": {},
   "outputs": [
    {
     "data": {
      "text/plain": [
       "(292, 75)"
      ]
     },
     "execution_count": 16,
     "metadata": {},
     "output_type": "execute_result"
    }
   ],
   "source": [
    "X_test.shape"
   ]
  },
  {
   "cell_type": "code",
   "execution_count": 17,
   "id": "5823ee16-005d-4cd6-a812-5ac916eaf4a2",
   "metadata": {},
   "outputs": [
    {
     "data": {
      "text/plain": [
       "(1168, 1)"
      ]
     },
     "execution_count": 17,
     "metadata": {},
     "output_type": "execute_result"
    }
   ],
   "source": [
    "y_train.shape"
   ]
  },
  {
   "cell_type": "code",
   "execution_count": 18,
   "id": "4ea4dbe1-8d8e-4eec-91e5-b78ee35c4eec",
   "metadata": {},
   "outputs": [],
   "source": [
    "from sklearn.ensemble import RandomForestRegressor\n",
    "from sklearn.linear_model import LinearRegression"
   ]
  },
  {
   "cell_type": "markdown",
   "id": "61a2db84-80dd-4683-b875-c17d9c692ffe",
   "metadata": {},
   "source": [
    "# Chknnotes2\n",
    "1. Decide the features\n",
    "2. Train test split data into X, y\n",
    "3. Decide the preprocessing\n",
    "4. Implement crossvalidation\n",
    "5. test"
   ]
  },
  {
   "cell_type": "code",
   "execution_count": 19,
   "id": "546ecfa8-11c3-4257-be43-3872c5c3756b",
   "metadata": {},
   "outputs": [],
   "source": [
    "params = {\n",
    "    'n_estimators':[10,50,100],\n",
    "    'max_depth':[50,100,200],\n",
    "    'min_samples_split':[2,3,4]    \n",
    "}"
   ]
  },
  {
   "cell_type": "code",
   "execution_count": 20,
   "id": "ee169355-a5a1-4864-b8eb-8a8e3895def2",
   "metadata": {},
   "outputs": [],
   "source": [
    "from sklearn.model_selection import StratifiedKFold\n",
    "from sklearn.model_selection import KFold\n",
    "skf = KFold(n_splits=10, random_state=69, shuffle=True)"
   ]
  },
  {
   "cell_type": "code",
   "execution_count": 21,
   "id": "80ec14de-1b66-4236-b380-af35c90d336b",
   "metadata": {},
   "outputs": [],
   "source": [
    "clf = GridSearchCV(RandomForestRegressor(), params, cv=skf)"
   ]
  },
  {
   "cell_type": "code",
   "execution_count": null,
   "id": "fafb0abb-1532-49df-9ca5-0d749076c579",
   "metadata": {},
   "outputs": [],
   "source": [
    "clf.fit(norm_X_train, y_train.values.ravel())"
   ]
  },
  {
   "cell_type": "code",
   "execution_count": null,
   "id": "98450372-b233-4761-b4ce-30c5a4e4a75d",
   "metadata": {},
   "outputs": [],
   "source": [
    "clf.best_params_"
   ]
  },
  {
   "cell_type": "code",
   "execution_count": null,
   "id": "d9a704b8-c43a-42e4-96ee-6947f18311d2",
   "metadata": {},
   "outputs": [],
   "source": [
    "clf.score(norm_X_train, y_train)"
   ]
  },
  {
   "cell_type": "code",
   "execution_count": null,
   "id": "03e9a519-f2d4-4751-a6f8-df432077dbd1",
   "metadata": {},
   "outputs": [],
   "source": [
    "clf.score(norm_X_test, y_test)"
   ]
  },
  {
   "cell_type": "code",
   "execution_count": null,
   "id": "a88eb0d3-8277-4e62-97ce-34438ff5d5cb",
   "metadata": {},
   "outputs": [],
   "source": [
    "test_df = pd.read_csv('Data/housing_price/test.csv', index_col=0)"
   ]
  },
  {
   "cell_type": "code",
   "execution_count": null,
   "id": "5dec2a87-51c2-4ffd-b0a8-1dae198c85de",
   "metadata": {},
   "outputs": [],
   "source": [
    "test_df.reset_index(inplace=True, drop=True)"
   ]
  },
  {
   "cell_type": "code",
   "execution_count": null,
   "id": "d05d13ef-0dfa-4c01-9f81-0218ffa89b56",
   "metadata": {},
   "outputs": [],
   "source": [
    "test_df.tail()"
   ]
  },
  {
   "cell_type": "code",
   "execution_count": null,
   "id": "7f51225b-9c1a-4d9d-9617-fc904ea56503",
   "metadata": {},
   "outputs": [],
   "source": [
    "test_df = test_df[features]"
   ]
  },
  {
   "cell_type": "code",
   "execution_count": null,
   "id": "1ffcb854-6f9d-46c8-9f62-46cac03a4b8a",
   "metadata": {},
   "outputs": [],
   "source": [
    "test_df"
   ]
  },
  {
   "cell_type": "code",
   "execution_count": null,
   "id": "f95cc93c-4dff-40a6-8506-496cb0263ffc",
   "metadata": {},
   "outputs": [],
   "source": [
    "test_df = test_df.fillna(0)"
   ]
  },
  {
   "cell_type": "code",
   "execution_count": null,
   "id": "d0f93ae0-0837-4052-bb25-0dad18f01efd",
   "metadata": {},
   "outputs": [],
   "source": [
    "norm_X_test_final = scaler.transform(test_df)\n"
   ]
  },
  {
   "cell_type": "code",
   "execution_count": null,
   "id": "95802c8b-cb64-4700-a0e7-4e31b1849de5",
   "metadata": {},
   "outputs": [],
   "source": [
    "norm_X_test_final"
   ]
  },
  {
   "cell_type": "code",
   "execution_count": null,
   "id": "dfae65bc-d460-41f5-84ce-d637d2a28b0c",
   "metadata": {},
   "outputs": [],
   "source": [
    "y_predict = clf.predict(norm_X_test_final)"
   ]
  },
  {
   "cell_type": "code",
   "execution_count": null,
   "id": "cfc6f56a-affd-4f95-9302-3820ff74aab4",
   "metadata": {},
   "outputs": [],
   "source": [
    "y_final = pd.DataFrame(y_predict, columns=['SalePrice'])"
   ]
  },
  {
   "cell_type": "code",
   "execution_count": null,
   "id": "f9fc29d5-7c85-4210-ab96-4a7d4d671621",
   "metadata": {},
   "outputs": [],
   "source": [
    "final_df = pd.concat([test_df, y_final], axis=1)"
   ]
  },
  {
   "cell_type": "code",
   "execution_count": null,
   "id": "847a0d9c-44d8-479f-88e3-f656d4f8ea6d",
   "metadata": {},
   "outputs": [],
   "source": [
    "final_df.tail()"
   ]
  },
  {
   "cell_type": "code",
   "execution_count": null,
   "id": "4b56b9c8-0e23-4e4d-954a-b20d680b6a08",
   "metadata": {},
   "outputs": [],
   "source": [
    "import shap\n",
    "shap.initjs()"
   ]
  },
  {
   "cell_type": "code",
   "execution_count": null,
   "id": "8f3283ac-29a3-4760-9b92-e5041c0c5ba2",
   "metadata": {},
   "outputs": [],
   "source": [
    "explainer = shap.Explainer(clf.best_estimator_)\n",
    "shap_values = explainer(norm_X_test)"
   ]
  },
  {
   "cell_type": "code",
   "execution_count": null,
   "id": "a334327a-0397-450f-9a14-bae46a70f1dc",
   "metadata": {},
   "outputs": [],
   "source": [
    "shap.summary_plot(shap_values, norm_X_test, feature_names=features)"
   ]
  },
  {
   "cell_type": "code",
   "execution_count": null,
   "id": "073cd886-927b-460d-bb6e-5be091abb20c",
   "metadata": {},
   "outputs": [],
   "source": []
  }
 ],
 "metadata": {
  "kernelspec": {
   "display_name": "Python 3 (ipykernel)",
   "language": "python",
   "name": "python3"
  },
  "language_info": {
   "codemirror_mode": {
    "name": "ipython",
    "version": 3
   },
   "file_extension": ".py",
   "mimetype": "text/x-python",
   "name": "python",
   "nbconvert_exporter": "python",
   "pygments_lexer": "ipython3",
   "version": "3.9.16"
  }
 },
 "nbformat": 4,
 "nbformat_minor": 5
}
